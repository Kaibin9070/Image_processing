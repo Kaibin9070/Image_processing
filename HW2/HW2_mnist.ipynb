{
  "nbformat": 4,
  "nbformat_minor": 0,
  "metadata": {
    "colab": {
      "provenance": [],
      "gpuType": "T4"
    },
    "kernelspec": {
      "name": "python3",
      "display_name": "Python 3"
    },
    "language_info": {
      "name": "python"
    },
    "accelerator": "GPU"
  },
  "cells": [
    {
      "cell_type": "markdown",
      "source": [
        "### Connect colab to googledrive"
      ],
      "metadata": {
        "id": "qMBpI0eoTzYz"
      }
    },
    {
      "cell_type": "code",
      "source": [
        "from google.colab import drive\n",
        "drive.mount(\"/content/drive\")"
      ],
      "metadata": {
        "id": "8kLMoS3AVvrv",
        "colab": {
          "base_uri": "https://localhost:8080/"
        },
        "outputId": "07dfe4a2-6421-481c-9f6c-e9a6a2c41b7f"
      },
      "execution_count": null,
      "outputs": [
        {
          "output_type": "stream",
          "name": "stdout",
          "text": [
            "Drive already mounted at /content/drive; to attempt to forcibly remount, call drive.mount(\"/content/drive\", force_remount=True).\n"
          ]
        }
      ]
    },
    {
      "cell_type": "code",
      "source": [
        "\n",
        "!ls \"/content/drive/My Drive\""
      ],
      "metadata": {
        "colab": {
          "base_uri": "https://localhost:8080/"
        },
        "id": "ysZQKZ0jnNs4",
        "outputId": "66de0f9f-6803-4226-dc88-4bfb19988841"
      },
      "execution_count": null,
      "outputs": [
        {
          "output_type": "stream",
          "name": "stdout",
          "text": [
            " 109-1教學媒體與操作\n",
            "'109-1 無脊椎動物學實驗照片'\n",
            "'112學年 上學期 社會昆蟲實驗室 Meeting報告順序.docx'\n",
            " 2020遠哲夏令營\n",
            "'20230502_作業. s0824029 生四 翟珈葳'\n",
            "'20230509_作業 生四 s0824029 翟珈葳'\n",
            " 20230620期末考_S0824029翟珈葳\n",
            " ant\n",
            "'Ant lab'\n",
            " ch24\n",
            " chaiwei_PythonEDA_Review_EN.ipynb.ipynb」的副本\n",
            " Class\n",
            "'Colab Notebooks'\n",
            "'image processing'\n",
            " IMG_5348.HEIC\n",
            " P7280017-1.JPG\n",
            "'S0824029 翟珈葳'\n",
            "'s0824029 翟珈葳 0411作業'\n",
            " statistics\n",
            " Untitled0.ipynb\n",
            " 列印\n",
            " 區域文學\n",
            " 大學部\n",
            " 女排\n",
            " 成長營\n",
            " 教學專業實作\n",
            " 教學專業實作期末party資料\n",
            "'果蠅一唷喔唷(都在群組相簿內'\n",
            " 照片\n",
            "'生四  S0824029 翟珈葳 0425 作業'\n",
            " 生四_翟珈葳_S0824029\n",
            " 生四_翟珈葳_S0824029_期中心得.pdf\n",
            " 碩士班\n"
          ]
        }
      ]
    },
    {
      "cell_type": "markdown",
      "source": [
        " ### Import MNIST dataset"
      ],
      "metadata": {
        "id": "E8hUtQeZhFEP"
      }
    },
    {
      "cell_type": "code",
      "source": [
        "import tensorflow as tf\n",
        "mnist = tf.keras.datasets.mnist\n",
        "(x_train,y_train),(x_test,y_test)=mnist.load_data()"
      ],
      "metadata": {
        "id": "vUV0BmUOVw3N"
      },
      "execution_count": null,
      "outputs": []
    },
    {
      "cell_type": "markdown",
      "source": [
        "### Check the shape of training data"
      ],
      "metadata": {
        "id": "awaJzEjxiB9G"
      }
    },
    {
      "cell_type": "code",
      "source": [
        "\n",
        "print(x_train.shape,y_train.shape,x_test.shape,y_test.shape)\n"
      ],
      "metadata": {
        "id": "Dft43_ejVzA0",
        "colab": {
          "base_uri": "https://localhost:8080/"
        },
        "outputId": "4e0e3d30-bcaa-42f8-922e-7f81b3240036"
      },
      "execution_count": null,
      "outputs": [
        {
          "output_type": "stream",
          "name": "stdout",
          "text": [
            "(60000, 28, 28) (60000,) (10000, 28, 28) (10000,)\n"
          ]
        }
      ]
    },
    {
      "cell_type": "markdown",
      "source": [
        "### Have quick view of the training data"
      ],
      "metadata": {
        "id": "ctW4awmii8Ls"
      }
    },
    {
      "cell_type": "code",
      "source": [
        "x_train[0]\n"
      ],
      "metadata": {
        "id": "mK0B-GyiV1gM"
      },
      "execution_count": null,
      "outputs": []
    },
    {
      "cell_type": "code",
      "source": [
        "\n",
        "y_train[:10]"
      ],
      "metadata": {
        "id": "p6nNfH_TV1Tt",
        "colab": {
          "base_uri": "https://localhost:8080/"
        },
        "outputId": "3d195e6a-44f6-404f-a731-285475baa095"
      },
      "execution_count": null,
      "outputs": [
        {
          "output_type": "execute_result",
          "data": {
            "text/plain": [
              "array([5, 0, 4, 1, 9, 2, 1, 3, 1, 4], dtype=uint8)"
            ]
          },
          "metadata": {},
          "execution_count": 14
        }
      ]
    },
    {
      "cell_type": "markdown",
      "source": [
        "###Image Enhancement"
      ],
      "metadata": {
        "id": "wIzrUFfhj5Y8"
      }
    },
    {
      "cell_type": "code",
      "source": [
        "\n",
        "data = x_train[0].copy()\n",
        "data[data>0]=1"
      ],
      "metadata": {
        "id": "FMtWjEB6V5FH"
      },
      "execution_count": null,
      "outputs": []
    },
    {
      "cell_type": "code",
      "source": [
        "text_image=[]\n",
        "for i in range(data.shape[0]):\n",
        "  text_image.append(''.join(str(data[i])))\n",
        "text_image\n",
        "#將矩陣轉換成文字(字串)，並連接起來join，用迴圈是為了換行"
      ],
      "metadata": {
        "id": "JohpvTVaV48G",
        "colab": {
          "base_uri": "https://localhost:8080/"
        },
        "outputId": "ac0c4e1b-9ab4-4545-9bb4-8d21b0696099"
      },
      "execution_count": null,
      "outputs": [
        {
          "output_type": "execute_result",
          "data": {
            "text/plain": [
              "['[0 0 0 0 0 0 0 0 0 0 0 0 0 0 0 0 0 0 0 0 0 0 0 0 0 0 0 0]',\n",
              " '[0 0 0 0 0 0 0 0 0 0 0 0 0 0 0 0 0 0 0 0 0 0 0 0 0 0 0 0]',\n",
              " '[0 0 0 0 0 0 0 0 0 0 0 0 0 0 0 0 0 0 0 0 0 0 0 0 0 0 0 0]',\n",
              " '[0 0 0 0 0 0 0 0 0 0 0 0 0 0 0 0 0 0 0 0 0 0 0 0 0 0 0 0]',\n",
              " '[0 0 0 0 0 0 0 0 0 0 0 0 0 0 0 0 0 0 0 0 0 0 0 0 0 0 0 0]',\n",
              " '[0 0 0 0 0 0 0 0 0 0 0 0 1 1 1 1 1 1 1 1 1 1 1 1 0 0 0 0]',\n",
              " '[0 0 0 0 0 0 0 0 1 1 1 1 1 1 1 1 1 1 1 1 1 1 1 1 0 0 0 0]',\n",
              " '[0 0 0 0 0 0 0 1 1 1 1 1 1 1 1 1 1 1 1 1 1 1 1 0 0 0 0 0]',\n",
              " '[0 0 0 0 0 0 0 1 1 1 1 1 1 1 1 1 1 1 0 0 0 0 0 0 0 0 0 0]',\n",
              " '[0 0 0 0 0 0 0 0 1 1 1 1 1 1 1 0 1 1 0 0 0 0 0 0 0 0 0 0]',\n",
              " '[0 0 0 0 0 0 0 0 0 1 1 1 1 1 0 0 0 0 0 0 0 0 0 0 0 0 0 0]',\n",
              " '[0 0 0 0 0 0 0 0 0 0 0 1 1 1 1 0 0 0 0 0 0 0 0 0 0 0 0 0]',\n",
              " '[0 0 0 0 0 0 0 0 0 0 0 1 1 1 1 0 0 0 0 0 0 0 0 0 0 0 0 0]',\n",
              " '[0 0 0 0 0 0 0 0 0 0 0 0 1 1 1 1 1 1 0 0 0 0 0 0 0 0 0 0]',\n",
              " '[0 0 0 0 0 0 0 0 0 0 0 0 0 1 1 1 1 1 1 0 0 0 0 0 0 0 0 0]',\n",
              " '[0 0 0 0 0 0 0 0 0 0 0 0 0 0 1 1 1 1 1 1 0 0 0 0 0 0 0 0]',\n",
              " '[0 0 0 0 0 0 0 0 0 0 0 0 0 0 0 1 1 1 1 1 0 0 0 0 0 0 0 0]',\n",
              " '[0 0 0 0 0 0 0 0 0 0 0 0 0 0 0 0 0 1 1 1 1 0 0 0 0 0 0 0]',\n",
              " '[0 0 0 0 0 0 0 0 0 0 0 0 0 0 1 1 1 1 1 1 1 0 0 0 0 0 0 0]',\n",
              " '[0 0 0 0 0 0 0 0 0 0 0 0 1 1 1 1 1 1 1 1 0 0 0 0 0 0 0 0]',\n",
              " '[0 0 0 0 0 0 0 0 0 0 1 1 1 1 1 1 1 1 1 0 0 0 0 0 0 0 0 0]',\n",
              " '[0 0 0 0 0 0 0 0 1 1 1 1 1 1 1 1 1 1 0 0 0 0 0 0 0 0 0 0]',\n",
              " '[0 0 0 0 0 0 1 1 1 1 1 1 1 1 1 1 0 0 0 0 0 0 0 0 0 0 0 0]',\n",
              " '[0 0 0 0 1 1 1 1 1 1 1 1 1 1 0 0 0 0 0 0 0 0 0 0 0 0 0 0]',\n",
              " '[0 0 0 0 1 1 1 1 1 1 1 1 0 0 0 0 0 0 0 0 0 0 0 0 0 0 0 0]',\n",
              " '[0 0 0 0 0 0 0 0 0 0 0 0 0 0 0 0 0 0 0 0 0 0 0 0 0 0 0 0]',\n",
              " '[0 0 0 0 0 0 0 0 0 0 0 0 0 0 0 0 0 0 0 0 0 0 0 0 0 0 0 0]',\n",
              " '[0 0 0 0 0 0 0 0 0 0 0 0 0 0 0 0 0 0 0 0 0 0 0 0 0 0 0 0]']"
            ]
          },
          "metadata": {},
          "execution_count": 19
        }
      ]
    },
    {
      "cell_type": "markdown",
      "source": [
        "### Show the first image of the training set"
      ],
      "metadata": {
        "id": "wLXlAdg7mppR"
      }
    },
    {
      "cell_type": "code",
      "source": [
        "import matplotlib.pyplot as plt\n",
        "x2 = x_train[0,:]#二維函數，取第0筆資料，全部取用(為矩陣)\n",
        "plt.imshow(x2.reshape(28,28),cmap='gray')#調整數距大小\n",
        "plt.axis('off')#不需要軸的分隔\n",
        "plt.show()"
      ],
      "metadata": {
        "id": "8vv88RAIV7Kb",
        "colab": {
          "base_uri": "https://localhost:8080/",
          "height": 406
        },
        "outputId": "538d49e5-454d-48e8-b670-88873a7c2e14"
      },
      "execution_count": null,
      "outputs": [
        {
          "output_type": "display_data",
          "data": {
            "text/plain": [
              "<Figure size 640x480 with 1 Axes>"
            ],
            "image/png": "[encoded data removed]"
          },
          "metadata": {}
        }
      ]
    },
    {
      "cell_type": "markdown",
      "source": [
        "### Normalize the pixel"
      ],
      "metadata": {
        "id": "uDgyUrplwUxA"
      }
    },
    {
      "cell_type": "code",
      "source": [
        "#將象數標準化(最小0最大255)\n",
        "x_train_norm,x_test_norm=x_train/255.0,x_test/255.0 #.0為除以符點數 分別設定後端兩個算式定義為前端兩項"
      ],
      "metadata": {
        "id": "1ob2GqZyV8d7"
      },
      "execution_count": null,
      "outputs": []
    },
    {
      "cell_type": "markdown",
      "source": [
        "### Setup the framework of the training model"
      ],
      "metadata": {
        "id": "MXwKQJqSw9yo"
      }
    },
    {
      "cell_type": "code",
      "source": [
        "#設定架構\n",
        "model = tf.keras.models.Sequential([\n",
        "    tf.keras.layers.Flatten(input_shape=(28,28)),#扁平化input data\n",
        "    tf.keras.layers.Dense(128,activation='relu'),#隱藏層 128層 relu讓神經元輸出非線性(若為線性則會較快結束)\n",
        "    tf.keras.layers.Dropout(0.2),#每次拿掉20%的data，用剩下做訓練，可以避免overfitting，也可將拿掉了數據做再次模型評估\n",
        "    tf.keras.layers.Dense(10,activation='softmax')#設定output 10個神經元\n",
        "])"
      ],
      "metadata": {
        "id": "2hj0w5d_V9sz"
      },
      "execution_count": null,
      "outputs": []
    },
    {
      "cell_type": "markdown",
      "source": [
        "### Setup the optimizer, loss function and performance metrics"
      ],
      "metadata": {
        "id": "8eadsHjt8yaF"
      }
    },
    {
      "cell_type": "code",
      "source": [
        "#設定優化器\n",
        "model.compile(optimizer='adam',#optimizer 在訓練過程中計算loss function\n",
        "        loss='sparse_categorical_crossentropy', #為loss function 實際與觀察的誤差範圍多寡\n",
        "        metrics=['accuracy'] #呈現模型效能(ex:準確度)\n",
        ")"
      ],
      "metadata": {
        "id": "6s7HLcnHV_oX"
      },
      "execution_count": null,
      "outputs": []
    },
    {
      "cell_type": "markdown",
      "source": [
        "### Perform model training"
      ],
      "metadata": {
        "id": "XRi6H-gd-Jhj"
      }
    },
    {
      "cell_type": "code",
      "source": [
        "\n",
        "history = model.fit(x_train_norm,y_train,epochs=5,validation_split=0.2)"
      ],
      "metadata": {
        "id": "t_G9SAJKWA_o",
        "colab": {
          "base_uri": "https://localhost:8080/"
        },
        "outputId": "c77342ba-f59d-49ff-96dc-a692ce35d284"
      },
      "execution_count": null,
      "outputs": [
        {
          "output_type": "stream",
          "name": "stdout",
          "text": [
            "Epoch 1/5\n",
            "1500/1500 [==============================] - 6s 3ms/step - loss: 0.3321 - accuracy: 0.9035 - val_loss: 0.1531 - val_accuracy: 0.9569\n",
            "Epoch 2/5\n",
            "1500/1500 [==============================] - 6s 4ms/step - loss: 0.1577 - accuracy: 0.9533 - val_loss: 0.1117 - val_accuracy: 0.9674\n",
            "Epoch 3/5\n",
            "1500/1500 [==============================] - 4s 3ms/step - loss: 0.1182 - accuracy: 0.9646 - val_loss: 0.1100 - val_accuracy: 0.9669\n",
            "Epoch 4/5\n",
            "1500/1500 [==============================] - 5s 3ms/step - loss: 0.0963 - accuracy: 0.9705 - val_loss: 0.0910 - val_accuracy: 0.9723\n",
            "Epoch 5/5\n",
            "1500/1500 [==============================] - 5s 4ms/step - loss: 0.0803 - accuracy: 0.9750 - val_loss: 0.0787 - val_accuracy: 0.9764\n"
          ]
        }
      ]
    },
    {
      "cell_type": "markdown",
      "source": [
        "### Plot the performance curve (accuracy)"
      ],
      "metadata": {
        "id": "k-n6-92z_do9"
      }
    },
    {
      "cell_type": "code",
      "source": [
        "import matplotlib.pyplot as plt\n",
        "plt.figure(figsize=(8,6))\n",
        "plt.plot(history.history['accuracy'],'r',label='accuracy')\n",
        "plt.plot(history.history['val_accuracy'],'g',label='val_accuracy')\n",
        "plt.legend()"
      ],
      "metadata": {
        "id": "xzfCFpyIWCRZ",
        "colab": {
          "base_uri": "https://localhost:8080/",
          "height": 539
        },
        "outputId": "86e75ab1-688b-4220-a874-38ce0a95c13f"
      },
      "execution_count": null,
      "outputs": [
        {
          "output_type": "execute_result",
          "data": {
            "text/plain": [
              "<matplotlib.legend.Legend at 0x7f80d783fb50>"
            ]
          },
          "metadata": {},
          "execution_count": 61
        },
        {
          "output_type": "display_data",
          "data": {
            "text/plain": [
              "<Figure size 800x600 with 1 Axes>"
            ],
            "image/png": "[encoded data removed]"
          },
          "metadata": {}
        }
      ]
    },
    {
      "cell_type": "markdown",
      "source": [
        "### Plot the performance curve (loss)"
      ],
      "metadata": {
        "id": "WmYoLakoAfq9"
      }
    },
    {
      "cell_type": "code",
      "source": [
        "import matplotlib.pyplot as plt\n",
        "plt.figure(figsize=(8,6))\n",
        "plt.plot(history.history['loss'],'r',label='loss')\n",
        "plt.plot(history.history['val_loss'],'g',label='val_loss')\n",
        "plt.legend()"
      ],
      "metadata": {
        "id": "53jURdI6WDUS",
        "colab": {
          "base_uri": "https://localhost:8080/",
          "height": 539
        },
        "outputId": "95a4e96d-2ae0-4300-e4c9-602804d0b38b"
      },
      "execution_count": null,
      "outputs": [
        {
          "output_type": "execute_result",
          "data": {
            "text/plain": [
              "<matplotlib.legend.Legend at 0x7f80d7881240>"
            ]
          },
          "metadata": {},
          "execution_count": 62
        },
        {
          "output_type": "display_data",
          "data": {
            "text/plain": [
              "<Figure size 800x600 with 1 Axes>"
            ],
            "image/png": "[encoded data removed]"
          },
          "metadata": {}
        }
      ]
    },
    {
      "cell_type": "markdown",
      "source": [
        "### Scoring the trained model"
      ],
      "metadata": {
        "id": "mVat41r7BD_6"
      }
    },
    {
      "cell_type": "code",
      "source": [
        "score = model.evaluate(x_test_norm,y_test,verbose=0)\n",
        "\n",
        "for i,x in enumerate(score):\n",
        "  print(f'{model.metrics_names[i]}:{score[i]:.4f}')"
      ],
      "metadata": {
        "id": "kafHSTqLWEw5",
        "colab": {
          "base_uri": "https://localhost:8080/"
        },
        "outputId": "7db47f52-102a-4e33-ef6b-7559ac7e83fb"
      },
      "execution_count": null,
      "outputs": [
        {
          "output_type": "stream",
          "name": "stdout",
          "text": [
            "loss:0.0796\n",
            "accuracy:0.9776\n"
          ]
        }
      ]
    },
    {
      "cell_type": "markdown",
      "source": [
        "### Perform the prediction"
      ],
      "metadata": {
        "id": "BmHW_UZRCjTn"
      }
    },
    {
      "cell_type": "code",
      "source": [
        "import numpy as np #numpy為處理矩陣的套件\n",
        "predictions = np.argmax(model.predict(x_train_norm),axis=1)\n",
        "print('actual:',y_test[0:20])\n",
        "print('prediction:',predictions[0:20])"
      ],
      "metadata": {
        "id": "yHsEsN3KWFsV",
        "colab": {
          "base_uri": "https://localhost:8080/"
        },
        "outputId": "43961e69-b0d9-4c3d-e183-50c820b1890c"
      },
      "execution_count": null,
      "outputs": [
        {
          "output_type": "stream",
          "name": "stdout",
          "text": [
            "1875/1875 [==============================] - 3s 2ms/step\n",
            "actual: [7 2 1 0 4 1 4 9 5 9 0 6 9 0 1 5 9 7 3 4]\n",
            "prediction: [5 0 4 1 9 2 1 3 1 4 3 5 3 6 1 7 2 8 6 9]\n"
          ]
        }
      ]
    },
    {
      "cell_type": "markdown",
      "source": [
        "### Compute the Prediction Probability of 0 to 9 for the test data"
      ],
      "metadata": {
        "id": "PckrUHU1HDW1"
      }
    },
    {
      "cell_type": "code",
      "source": [
        "predictions = model.predict(x_test_norm[8:9])#取資料第九個 丟到model中預測\n",
        "print(np.around(predictions[0],2))#預測結果會在list當中 有第0號位置 將值調整為2為數小數點 預測數值出現機率"
      ],
      "metadata": {
        "id": "crtT5ozpWG_S",
        "colab": {
          "base_uri": "https://localhost:8080/"
        },
        "outputId": "f53287b6-7aa5-481c-b225-10fe700b29c3"
      },
      "execution_count": null,
      "outputs": [
        {
          "output_type": "stream",
          "name": "stdout",
          "text": [
            "1/1 [==============================] - 0s 81ms/step\n",
            "[0.   0.   0.   0.   0.   0.99 0.01 0.   0.   0.  ]\n"
          ]
        }
      ]
    },
    {
      "cell_type": "markdown",
      "source": [
        "### Save the trained model"
      ],
      "metadata": {
        "id": "WfdXJ3izHQQI"
      }
    },
    {
      "cell_type": "code",
      "source": [
        "#將模型存取\n",
        "model.save('./MyDrive/image processing/1006model.h5')"
      ],
      "metadata": {
        "id": "fpVGYWIdWIUI"
      },
      "execution_count": null,
      "outputs": []
    },
    {
      "cell_type": "markdown",
      "source": [
        "### Use the trained model"
      ],
      "metadata": {
        "id": "cWjIGGtnL4Ev"
      }
    },
    {
      "cell_type": "code",
      "source": [
        "from keras.models import load_model\n",
        "model = load_model('./MyDrive/image processing/1006model.h5')"
      ],
      "metadata": {
        "id": "LG-Z7kXSWKou"
      },
      "execution_count": null,
      "outputs": []
    },
    {
      "cell_type": "code",
      "source": [],
      "metadata": {
        "id": "QJxIvNE95big"
      },
      "execution_count": null,
      "outputs": []
    }
  ]
}